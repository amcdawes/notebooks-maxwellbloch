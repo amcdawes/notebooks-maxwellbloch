{
 "cells": [
  {
   "cell_type": "markdown",
   "metadata": {
    "deletable": true,
    "editable": true
   },
   "source": [
    "# Two-Level: Weak CW through Some Atoms with Decay\n",
    "\n",
    "Time taken to solve this problem on a 2013 MacBook Pro:\n",
    "**?**."
   ]
  },
  {
   "cell_type": "markdown",
   "metadata": {
    "deletable": true,
    "editable": true
   },
   "source": [
    "## Define the Problem"
   ]
  },
  {
   "cell_type": "code",
   "execution_count": 1,
   "metadata": {
    "collapsed": true,
    "deletable": true,
    "editable": true
   },
   "outputs": [],
   "source": [
    "mb_solve_json = \"\"\"\n",
    "{\n",
    "  \"ob_atom\": {\n",
    "    \"decays\": [\n",
    "      {\n",
    "        \"channels\": [[0, 1]],\n",
    "        \"rate\": 1.0\n",
    "      }\n",
    "    ],\n",
    "    \"energies\": [],\n",
    "    \"fields\": [\n",
    "      {\n",
    "        \"coupled_levels\": [[0, 1]],\n",
    "        \"detuning\": 0.0,\n",
    "        \"detuning_positive\": true,\n",
    "        \"label\": \"probe\",\n",
    "        \"rabi_freq\": 1.0e-3,\n",
    "        \"rabi_freq_t_args\": {\n",
    "          \"ampl_1\": 1.0,\n",
    "          \"on_1\": 0.0,\n",
    "          \"off_1\": 8.0,\n",
    "          \"fwhm_1\": 1.0\n",
    "        },\n",
    "        \"rabi_freq_t_func\": \"ramp_onoff_1\"\n",
    "      }\n",
    "    ],\n",
    "    \"num_states\": 2\n",
    "  },\n",
    "  \"t_min\": -2.0,\n",
    "  \"t_max\": 10.0,\n",
    "  \"t_steps\": 100,\n",
    "  \"z_min\": -0.2,\n",
    "  \"z_max\": 1.2,\n",
    "  \"z_steps\": 100,\n",
    "  \"z_steps_inner\": 2,\n",
    "  \"num_density_z_func\": \"square_1\",\n",
    "  \"num_density_z_args\": {\n",
    "    \"on_1\": 0.0,\n",
    "    \"off_1\": 1.0,\n",
    "    \"ampl_1\": 1.0\n",
    "  },\n",
    "  \"interaction_strengths\": [\n",
    "    10.0\n",
    "  ],\n",
    "  \"velocity_classes\": {\n",
    "    \"thermal_delta_min\": -0.0,\n",
    "    \"thermal_delta_max\": 0.0,\n",
    "    \"thermal_delta_steps\": 0,\n",
    "    \"thermal_delta_inner_min\": 0.0,\n",
    "    \"thermal_delta_inner_max\": 0.0,\n",
    "    \"thermal_delta_inner_steps\": 0,\n",
    "    \"thermal_width\": 1.0\n",
    "  },\n",
    "  \"method\": \"mesolve\",\n",
    "  \"opts\": {},\n",
    "  \"savefile\": \"qu/mb-solve-two-weak-cw-some-atoms-decay\"\n",
    "}\n",
    "\"\"\""
   ]
  },
  {
   "cell_type": "code",
   "execution_count": 2,
   "metadata": {
    "collapsed": false,
    "deletable": true,
    "editable": true
   },
   "outputs": [],
   "source": [
    "from maxwellbloch import mb_solve\n",
    "mb_solve_00 = mb_solve.MBSolve().from_json_str(mb_solve_json)"
   ]
  },
  {
   "cell_type": "markdown",
   "metadata": {
    "deletable": true,
    "editable": true
   },
   "source": [
    "## Solve the Problem"
   ]
  },
  {
   "cell_type": "code",
   "execution_count": 3,
   "metadata": {
    "collapsed": false,
    "deletable": true,
    "editable": true
   },
   "outputs": [
    {
     "name": "stdout",
     "output_type": "stream",
     "text": [
      "10.0%. Run time:  13.81s. Est. time left: 00:00:02:04\n",
      "20.0%. Run time:  24.80s. Est. time left: 00:00:01:39\n",
      "30.0%. Run time:  34.48s. Est. time left: 00:00:01:20\n",
      "40.0%. Run time:  43.29s. Est. time left: 00:00:01:04\n",
      "50.0%. Run time:  49.89s. Est. time left: 00:00:00:49\n",
      "60.0%. Run time:  56.55s. Est. time left: 00:00:00:37\n",
      "70.0%. Run time:  67.13s. Est. time left: 00:00:00:28\n",
      "80.0%. Run time:  75.17s. Est. time left: 00:00:00:18\n",
      "90.0%. Run time:  82.36s. Est. time left: 00:00:00:09\n",
      "100.0%. Run time:  88.42s. Est. time left: 00:00:00:00\n",
      "Total run time:  89.03s\n",
      "Saving MBSolve to qu/mb-solve-two-weak-cw-some-atoms-decay .qu\n",
      "CPU times: user 1min 20s, sys: 779 ms, total: 1min 21s\n",
      "Wall time: 1min 29s\n"
     ]
    }
   ],
   "source": [
    "%time Omegas_zt, states_zt = mb_solve_00.mbsolve(recalc=True)"
   ]
  },
  {
   "cell_type": "code",
   "execution_count": 4,
   "metadata": {
    "collapsed": true,
    "deletable": true,
    "editable": true
   },
   "outputs": [],
   "source": [
    "import matplotlib.pyplot as plt\n",
    "%matplotlib inline\n",
    "import seaborn as sns\n",
    "\n",
    "import numpy as np"
   ]
  },
  {
   "cell_type": "markdown",
   "metadata": {
    "deletable": true,
    "editable": true
   },
   "source": [
    "## Field Output"
   ]
  },
  {
   "cell_type": "code",
   "execution_count": 5,
   "metadata": {
    "collapsed": false,
    "deletable": true,
    "editable": true
   },
   "outputs": [
    {
     "data": {
      "image/png": "[encoded data removed]",
      "text/plain": [
       "<matplotlib.figure.Figure at 0x1175fae10>"
      ]
     },
     "metadata": {},
     "output_type": "display_data"
    }
   ],
   "source": [
    "fig = plt.figure(1, figsize=(16, 6))\n",
    "ax = fig.add_subplot(111)\n",
    "cmap_range = np.linspace(0.0, 1.0e-3, 11)\n",
    "cf = ax.contourf(mb_solve_00.tlist, mb_solve_00.zlist, \n",
    "                 np.abs(mb_solve_00.Omegas_zt[0]/(2*np.pi)), \n",
    "                 cmap_range, cmap=plt.cm.Blues)\n",
    "ax.set_title('Rabi Frequency ($\\Gamma / 2\\pi $)')\n",
    "ax.set_xlabel('Time ($1/\\Gamma$)')\n",
    "ax.set_ylabel('Distance ($L$)')\n",
    "for y in [0.0, 1.0]:\n",
    "    ax.axhline(y, c='grey', lw=1.0, ls='dotted')\n",
    "plt.colorbar(cf)\n",
    "plt.savefig('images/mb-solve-two-weak-cw-some-atoms-decay.png')"
   ]
  }
 ],
 "metadata": {
  "kernelspec": {
   "display_name": "Python 3",
   "language": "python",
   "name": "python3"
  },
  "language_info": {
   "codemirror_mode": {
    "name": "ipython",
    "version": 3
   },
   "file_extension": ".py",
   "mimetype": "text/x-python",
   "name": "python",
   "nbconvert_exporter": "python",
   "pygments_lexer": "ipython3",
   "version": "3.6.2"
  }
 },
 "nbformat": 4,
 "nbformat_minor": 2
}
