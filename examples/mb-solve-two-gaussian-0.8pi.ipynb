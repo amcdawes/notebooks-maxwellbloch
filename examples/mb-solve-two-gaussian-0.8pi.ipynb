{
 "cells": [
  {
   "cell_type": "code",
   "execution_count": 106,
   "metadata": {},
   "outputs": [],
   "source": [
    "import numpy as np"
   ]
  },
  {
   "cell_type": "code",
   "execution_count": 107,
   "metadata": {},
   "outputs": [],
   "source": [
    "FNAME = \"mb-solve-two-gaussian-0.8pi\""
   ]
  },
  {
   "cell_type": "code",
   "execution_count": 108,
   "metadata": {},
   "outputs": [
    {
     "name": "stdout",
     "output_type": "stream",
     "text": [
      "0.3757749114798606\n"
     ]
    }
   ],
   "source": [
    "fwhm = 1.0 # [τ]\n",
    "n = 0.8 # For a pulse area of nπ    \n",
    "ampl = n*np.sqrt(4.*np.pi*np.log(2)/fwhm**2)/(2*np.pi)  # [2π Γ] nπ pulse\n",
    "print(ampl)"
   ]
  },
  {
   "cell_type": "code",
   "execution_count": 117,
   "metadata": {},
   "outputs": [],
   "source": [
    "mb_solve_json = \"\"\"\n",
    "{\n",
    "  \"atom\": {\n",
    "    \"decays\": [\n",
    "      {\n",
    "        \"channels\": [[0, 1]],\n",
    "        \"rate\": 0.0\n",
    "      }\n",
    "    ],\n",
    "    \"energies\": [],\n",
    "    \"fields\": [\n",
    "      {\n",
    "        \"coupled_levels\": [[0, 1]],\n",
    "        \"detuning\": 0.0,\n",
    "        \"detuning_positive\": true,\n",
    "        \"label\": \"probe\",\n",
    "        \"rabi_freq\": 1.0,\n",
    "        \"rabi_freq_t_args\": {\n",
    "          \"ampl\": %f,\n",
    "          \"centre\": 0.0,\n",
    "          \"fwhm\": %f\n",
    "        },\n",
    "        \"rabi_freq_t_func\": \"gaussian\"\n",
    "      }\n",
    "    ],\n",
    "    \"num_states\": 2\n",
    "  },\n",
    "  \"t_min\": -2.0,\n",
    "  \"t_max\": 10.0,\n",
    "  \"t_steps\": 120,\n",
    "  \"z_min\": -0.5,\n",
    "  \"z_max\": 1.5,\n",
    "  \"z_steps\": 200,\n",
    "  \"z_steps_inner\": 1,\n",
    "  \"num_density_z_func\": \"square\",\n",
    "  \"num_density_z_args\": {\n",
    "    \"on\": 0.0,\n",
    "    \"off\": 1.0,\n",
    "    \"ampl\": 1.0\n",
    "  },\n",
    "  \"interaction_strengths\": [\n",
    "    10.0\n",
    "  ],\n",
    "  \"velocity_classes\": {},\n",
    "  \"method\": \"mesolve\",\n",
    "  \"opts\": {},\n",
    "  \"savefile\": \"qu/%s\"\n",
    "}\n",
    "\"\"\"%(ampl, fwhm, FNAME)"
   ]
  },
  {
   "cell_type": "code",
   "execution_count": 119,
   "metadata": {},
   "outputs": [],
   "source": [
    "from maxwellbloch import mb_solve\n",
    "mb_solve_00 = mb_solve.MBSolve().from_json_str(mb_solve_json)"
   ]
  },
  {
   "cell_type": "code",
   "execution_count": 120,
   "metadata": {},
   "outputs": [
    {
     "name": "stdout",
     "output_type": "stream",
     "text": [
      "The input pulse area is 0.7999990916928281\n"
     ]
    }
   ],
   "source": [
    "print('The input pulse area is {0}'.format(np.trapz(mb_solve_00.Omegas_zt[0,0,:].real, \n",
    "                                                    mb_solve_00.tlist)/np.pi))"
   ]
  },
  {
   "cell_type": "markdown",
   "metadata": {},
   "source": [
    "## Solve the Problem"
   ]
  },
  {
   "cell_type": "code",
   "execution_count": 121,
   "metadata": {},
   "outputs": [
    {
     "name": "stdout",
     "output_type": "stream",
     "text": [
      "10.0%. Run time:   3.95s. Est. time left: 00:00:00:35\n",
      "20.0%. Run time:   7.41s. Est. time left: 00:00:00:29\n",
      "30.0%. Run time:  12.40s. Est. time left: 00:00:00:28\n",
      "40.0%. Run time:  20.79s. Est. time left: 00:00:00:31\n",
      "50.0%. Run time:  27.32s. Est. time left: 00:00:00:27\n",
      "60.0%. Run time:  36.96s. Est. time left: 00:00:00:24\n",
      "70.0%. Run time:  47.47s. Est. time left: 00:00:00:20\n",
      "80.0%. Run time:  58.89s. Est. time left: 00:00:00:14\n",
      "90.0%. Run time:  68.77s. Est. time left: 00:00:00:07\n",
      "Total run time:  76.03s\n",
      "Saving MBSolve to qu/mb-solve-two-gaussian-0.8pi.qu\n",
      "CPU times: user 1min 11s, sys: 873 ms, total: 1min 12s\n",
      "Wall time: 1min 16s\n"
     ]
    }
   ],
   "source": [
    "time Omegas_zt, states_zt = mb_solve_00.mbsolve(recalc=True)"
   ]
  },
  {
   "cell_type": "markdown",
   "metadata": {},
   "source": [
    "## Plot Output"
   ]
  },
  {
   "cell_type": "code",
   "execution_count": 124,
   "metadata": {},
   "outputs": [
    {
     "data": {
      "image/png": "[encoded data removed]",
      "text/plain": [
       "<Figure size 1152x432 with 2 Axes>"
      ]
     },
     "metadata": {},
     "output_type": "display_data"
    }
   ],
   "source": [
    "import matplotlib.pyplot as plt\n",
    "%matplotlib inline\n",
    "import seaborn as sns\n",
    "\n",
    "import numpy as np\n",
    "\n",
    "sns.set_style(\"darkgrid\")\n",
    "fig = plt.figure(1, figsize=(16, 6))\n",
    "ax = fig.add_subplot(111)\n",
    "cmap_range = np.linspace(0.0, 1.2, 11)\n",
    "cf = ax.contourf(mb_solve_00.tlist, mb_solve_00.zlist, \n",
    "                 np.abs(mb_solve_00.Omegas_zt[0]/(2*np.pi)), \n",
    "                 cmap_range, cmap=plt.cm.Blues)\n",
    "ax.set_title('Rabi Frequency ($\\Gamma / 2\\pi $)')\n",
    "ax.set_xlabel('Time ($1/\\Gamma$)')\n",
    "ax.set_ylabel('Distance ($L$)')\n",
    "for y in [0.0, 1.0]:\n",
    "    ax.axhline(y, c='grey', lw=1.0, ls='dotted')\n",
    "plt.colorbar(cf)\n",
    "plt.savefig('images'+FNAME+'.png')"
   ]
  },
  {
   "cell_type": "markdown",
   "metadata": {},
   "source": [
    "## Movie"
   ]
  },
  {
   "cell_type": "code",
   "execution_count": 125,
   "metadata": {},
   "outputs": [],
   "source": [
    "C = 0.1 # speed of light\n",
    "Y_MIN = 0.0 # Y-axis min\n",
    "Y_MAX = 4.0 # y-axis max\n",
    "ZOOM = 2 # level of linear interpolation\n",
    "FPS = 30 # frames per second\n",
    "ATOMS_ALPHA = 0.2 # Atom indicator transparency"
   ]
  },
  {
   "cell_type": "code",
   "execution_count": 126,
   "metadata": {},
   "outputs": [],
   "source": [
    "FNAME_IMG = \"images/\"+FNAME\n",
    "FNAME_JSON = FNAME_IMG + '.json'\n",
    "with open(FNAME_JSON, \"w\") as f:\n",
    "    f.write(mb_solve_json)"
   ]
  },
  {
   "cell_type": "code",
   "execution_count": 127,
   "metadata": {},
   "outputs": [
    {
     "name": "stdout",
     "output_type": "stream",
     "text": [
      "Namespace(atoms_alpha='0.2', c_line=False, file='images/mb-solve-two-gaussian-0.8pi.json', fps='30', peak_line=False, save_path='./', speed_of_light='0.1', y_max='4.0', y_min='0.0', zoom='2')\n",
      "Loaded tuple object.\n",
      "Saving MP4\n",
      "./images/mb-solve-two-gaussian-0.8pi.mp4\n",
      "Figure(1200x400)\n"
     ]
    }
   ],
   "source": [
    "!make-mp4-fixed-frame.py -f $FNAME_JSON -c $C --fps $FPS --y-min $Y_MIN --y-max $Y_MAX \\\n",
    "    --zoom $ZOOM --atoms-alpha $ATOMS_ALPHA #--peak-line --c-line"
   ]
  },
  {
   "cell_type": "code",
   "execution_count": 129,
   "metadata": {},
   "outputs": [
    {
     "name": "stdout",
     "output_type": "stream",
     "text": [
      "Converting images/mb-solve-two-gaussian-0.8pi.mp4 to gif format\n",
      "Input Scale: 900\n",
      "Input FPS: 30\n",
      "Output Scale: 900\n",
      "Output FPS: 30\n",
      "/Users/tommy/.miniconda3/envs/mb-0.4.0/bin/make-gif-ffmpeg.sh: line 59: Y: command not found\n",
      "ffmpeg version 3.2.4 Copyright (c) 2000-2017 the FFmpeg developers\n",
      "  built with Apple LLVM version 8.0.0 (clang-800.0.42.1)\n",
      "  configuration: --prefix=/usr/local/Cellar/ffmpeg/3.2.4 --enable-shared --enable-pthreads --enable-gpl --enable-version3 --enable-hardcoded-tables --enable-avresample --cc=clang --host-cflags= --host-ldflags= --enable-libmp3lame --enable-libx264 --enable-libxvid --enable-opencl --disable-lzma --enable-vda\n",
      "  libavutil      55. 34.101 / 55. 34.101\n",
      "  libavcodec     57. 64.101 / 57. 64.101\n",
      "  libavformat    57. 56.101 / 57. 56.101\n",
      "  libavdevice    57.  1.100 / 57.  1.100\n",
      "  libavfilter     6. 65.100 /  6. 65.100\n",
      "  libavresample   3.  1.  0 /  3.  1.  0\n",
      "  libswscale      4.  2.100 /  4.  2.100\n",
      "  libswresample   2.  3.100 /  2.  3.100\n",
      "  libpostproc    54.  1.100 / 54.  1.100\n",
      "Input #0, mov,mp4,m4a,3gp,3g2,mj2, from 'images/mb-solve-two-gaussian-0.8pi.mp4':\n",
      "  Metadata:\n",
      "    major_brand     : isom\n",
      "    minor_version   : 512\n",
      "    compatible_brands: isomiso2avc1mp41\n",
      "    artist          : Me\n",
      "    encoder         : Lavf57.56.101\n",
      "  Duration: 00:00:08.07, start: 0.000000, bitrate: 361 kb/s\n",
      "    Stream #0:0(und): Video: h264 (High) (avc1 / 0x31637661), yuv420p, 1200x400, 357 kb/s, 30 fps, 30 tbr, 15360 tbn, 60 tbc (default)\n",
      "    Metadata:\n",
      "      handler_name    : VideoHandler\n",
      "Output #0, image2, to 'palette.png':\n",
      "  Metadata:\n",
      "    major_brand     : isom\n",
      "    minor_version   : 512\n",
      "    compatible_brands: isomiso2avc1mp41\n",
      "    artist          : Me\n",
      "    encoder         : Lavf57.56.101\n",
      "    Stream #0:0(und): Video: png, rgba, 16x16 [SAR 1:1 DAR 1:1], q=2-31, 200 kb/s, 30 fps, 30 tbn, 30 tbc (default)\n",
      "    Metadata:\n",
      "      handler_name    : VideoHandler\n",
      "      encoder         : Lavc57.64.101 png\n",
      "Stream mapping:\n",
      "  Stream #0:0 -> #0:0 (h264 (native) -> png (native))\n",
      "Press [q] to stop, [?] for help\n",
      "\u001b[1;32m[Parsed_palettegen_2 @ 0x7f9197703dc0] \u001b[0m255(+1) colors generated out of 46363 colors; ratio=0.005500\n",
      "\u001b[1;32m[Parsed_palettegen_2 @ 0x7f9197703dc0] \u001b[0m\u001b[0;33mDupped color: FFC9D0E3\n",
      "\u001b[0m\u001b[1;32m[Parsed_palettegen_2 @ 0x7f9197703dc0] \u001b[0m\u001b[0;33mDupped color: FFD5D9EB\n",
      "\u001b[0m\u001b[1;32m[Parsed_palettegen_2 @ 0x7f9197703dc0] \u001b[0m\u001b[0;33mDupped color: FFDFE2EC\n",
      "\u001b[0m\u001b[1;32m[Parsed_palettegen_2 @ 0x7f9197703dc0] \u001b[0m\u001b[0;33mDupped color: FFE7E7EE\n",
      "\u001b[0m\u001b[1;32m[Parsed_palettegen_2 @ 0x7f9197703dc0] \u001b[0m\u001b[0;33mDupped color: FFE7E7F0\n",
      "\u001b[0m\u001b[1;32m[Parsed_palettegen_2 @ 0x7f9197703dc0] \u001b[0m\u001b[0;33mDupped color: FFE9E9F2\n",
      "    Last message repeated 1 times\n",
      "\u001b[1;32m[Parsed_palettegen_2 @ 0x7f9197703dc0] \u001b[0m\u001b[0;33mDupped color: FFFDFDFD\n",
      "\u001b[0mframe=    1 fps=0.0 q=-0.0 Lsize=N/A time=00:00:00.03 bitrate=N/A speed=0.0407x    \n",
      "video:1kB audio:0kB subtitle:0kB other streams:0kB global headers:0kB muxing overhead: unknown\n",
      "Outputting to .gif\n",
      "ffmpeg version 3.2.4 Copyright (c) 2000-2017 the FFmpeg developers\n",
      "  built with Apple LLVM version 8.0.0 (clang-800.0.42.1)\n",
      "  configuration: --prefix=/usr/local/Cellar/ffmpeg/3.2.4 --enable-shared --enable-pthreads --enable-gpl --enable-version3 --enable-hardcoded-tables --enable-avresample --cc=clang --host-cflags= --host-ldflags= --enable-libmp3lame --enable-libx264 --enable-libxvid --enable-opencl --disable-lzma --enable-vda\n",
      "  libavutil      55. 34.101 / 55. 34.101\n",
      "  libavcodec     57. 64.101 / 57. 64.101\n",
      "  libavformat    57. 56.101 / 57. 56.101\n",
      "  libavdevice    57.  1.100 / 57.  1.100\n",
      "  libavfilter     6. 65.100 /  6. 65.100\n",
      "  libavresample   3.  1.  0 /  3.  1.  0\n",
      "  libswscale      4.  2.100 /  4.  2.100\n",
      "  libswresample   2.  3.100 /  2.  3.100\n",
      "  libpostproc    54.  1.100 / 54.  1.100\n",
      "Input #0, mov,mp4,m4a,3gp,3g2,mj2, from 'images/mb-solve-two-gaussian-0.8pi.mp4':\n",
      "  Metadata:\n",
      "    major_brand     : isom\n",
      "    minor_version   : 512\n",
      "    compatible_brands: isomiso2avc1mp41\n",
      "    artist          : Me\n",
      "    encoder         : Lavf57.56.101\n",
      "  Duration: 00:00:08.07, start: 0.000000, bitrate: 361 kb/s\n",
      "    Stream #0:0(und): Video: h264 (High) (avc1 / 0x31637661), yuv420p, 1200x400, 357 kb/s, 30 fps, 30 tbr, 15360 tbn, 60 tbc (default)\n",
      "    Metadata:\n",
      "      handler_name    : VideoHandler\n",
      "Input #1, png_pipe, from 'palette.png':\n",
      "  Duration: N/A, bitrate: N/A\n",
      "    Stream #1:0: Video: png, rgba(pc), 16x16 [SAR 1:1 DAR 1:1], 25 tbr, 25 tbn, 25 tbc\n",
      "Output #0, gif, to '.gif':\n",
      "  Metadata:\n",
      "    major_brand     : isom\n",
      "    minor_version   : 512\n",
      "    compatible_brands: isomiso2avc1mp41\n",
      "    artist          : Me\n",
      "    encoder         : Lavf57.56.101\n",
      "    Stream #0:0: Video: gif, pal8, 900x300, q=2-31, 200 kb/s, 30 fps, 100 tbn, 30 tbc (default)\n",
      "    Metadata:\n",
      "      encoder         : Lavc57.64.101 gif\n",
      "Stream mapping:\n",
      "  Stream #0:0 (h264) -> fps\n",
      "  Stream #1:0 (png) -> paletteuse:palette\n",
      "  paletteuse -> Stream #0:0 (gif)\n",
      "Press [q] to stop, [?] for help\n",
      "frame=  242 fps= 66 q=-0.0 Lsize=     843kB time=00:00:08.04 bitrate= 859.4kbits/s speed=2.19x    \n",
      "video:841kB audio:0kB subtitle:0kB other streams:0kB global headers:0kB muxing overhead: 0.317892%\n"
     ]
    }
   ],
   "source": [
    "FNAME_MP4 = FNAME_IMG + '.mp4'\n",
    "!make-gif-ffmpeg.sh -f $FNAME_MP4 --in-fps $FPS"
   ]
  },
  {
   "cell_type": "code",
   "execution_count": 130,
   "metadata": {},
   "outputs": [
    {
     "data": {
      "text/html": [
       "<img src=\"images/mb-solve-two-gaussian-0.8pi.mp4.gif\"/>"
      ],
      "text/plain": [
       "<IPython.core.display.Image object>"
      ]
     },
     "execution_count": 130,
     "metadata": {},
     "output_type": "execute_result"
    }
   ],
   "source": [
    "from IPython.display import Image\n",
    "Image(url=FNAME_MP4 +'.gif', format='gif')"
   ]
  }
 ],
 "metadata": {
  "kernelspec": {
   "display_name": "Python 3",
   "language": "python",
   "name": "python3"
  },
  "language_info": {
   "codemirror_mode": {
    "name": "ipython",
    "version": 3
   },
   "file_extension": ".py",
   "mimetype": "text/x-python",
   "name": "python",
   "nbconvert_exporter": "python",
   "pygments_lexer": "ipython3",
   "version": "3.6.0"
  }
 },
 "nbformat": 4,
 "nbformat_minor": 2
}
