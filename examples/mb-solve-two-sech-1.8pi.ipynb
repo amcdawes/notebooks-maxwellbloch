{
 "cells": [
  {
   "cell_type": "markdown",
   "metadata": {},
   "source": [
    "# Two-Level: Sech Pulse 1.8π \n",
    "\n",
    "Time taken to solve this problem on a 2013 MacBook Pro:\n",
    "**?**"
   ]
  },
  {
   "cell_type": "markdown",
   "metadata": {},
   "source": [
    "## Define the Problem\n",
    "\n",
    "First we need to define a sech pulse with the area we want. We'll fix the width of the pulse and the area to find the right amplitude.\n",
    "\n",
    "The full-width at half maximum (FWHM) $t_s$ of the sech pulse is related to the FWHM of a Gaussian by a factor of $1/2.6339157938$. (See §3.2.2 of my [PhD thesis](https://github.com/tommyogden/phd-thesis)).\n",
    "\n",
    "We then obtain the amplitude $a$ we need from\n",
    "\n",
    "$$\n",
    "a = \\frac{n}{2 \\pi ~ t_s}\n",
    "$$"
   ]
  },
  {
   "cell_type": "code",
   "execution_count": 1,
   "metadata": {},
   "outputs": [
    {
     "name": "stdout",
     "output_type": "stream",
     "text": [
      "t_width: 0.3796628587572578\n",
      "ampl: 0.75456129288795\n"
     ]
    }
   ],
   "source": [
    "import numpy as np\n",
    "\n",
    "sech_fwhm_conv = 1./2.6339157938\n",
    "t_width = 1.0*sech_fwhm_conv # [τ]\n",
    "print('t_width:', t_width)\n",
    "\n",
    "n = 1.8 # For a pulse area of nπ    \n",
    "ampl = n/t_width/(2*np.pi) # Pulse amplitude [2π Γ]\n",
    "print('ampl:', ampl)"
   ]
  },
  {
   "cell_type": "markdown",
   "metadata": {},
   "source": [
    "We'll then copy and paste these values into the problem definition below."
   ]
  },
  {
   "cell_type": "code",
   "execution_count": 2,
   "metadata": {},
   "outputs": [],
   "source": [
    "mb_solve_json = \"\"\"\n",
    "{\n",
    "  \"atom\": {\n",
    "    \"decays\": [\n",
    "      {\n",
    "        \"channels\": [[0, 1]],\n",
    "        \"rate\": 0.0\n",
    "      }\n",
    "    ],\n",
    "    \"energies\": [],\n",
    "    \"fields\": [\n",
    "      {\n",
    "        \"coupled_levels\": [[0, 1]],\n",
    "        \"detuning\": 0.0,\n",
    "        \"detuning_positive\": true,\n",
    "        \"label\": \"probe\",\n",
    "        \"rabi_freq\": 0.75456129288795,\n",
    "        \"rabi_freq_t_args\": {\n",
    "          \"ampl\": 1.0,\n",
    "          \"centre\": 0.0,\n",
    "          \"width\": 0.3796628587572578\n",
    "        },\n",
    "        \"rabi_freq_t_func\": \"sech\"\n",
    "      }\n",
    "    ],\n",
    "    \"num_states\": 2\n",
    "  },\n",
    "  \"t_min\": -2.0,\n",
    "  \"t_max\": 10.0,\n",
    "  \"t_steps\": 120,\n",
    "  \"z_min\": -0.5,\n",
    "  \"z_max\": 1.5,\n",
    "  \"z_steps\": 200,\n",
    "  \"z_steps_inner\": 1,\n",
    "  \"num_density_z_func\": \"square\",\n",
    "  \"num_density_z_args\": {\n",
    "    \"on\": 0.0,\n",
    "    \"off\": 1.0,\n",
    "    \"ampl\": 1.0\n",
    "  },\n",
    "  \"interaction_strengths\": [\n",
    "    10.0\n",
    "  ],\n",
    "  \"velocity_classes\": {},\n",
    "  \"method\": \"mesolve\",\n",
    "  \"opts\": {},\n",
    "  \"savefile\": \"qu/mb-solve-two-sech-1.8pi\"\n",
    "}\n",
    "\"\"\""
   ]
  },
  {
   "cell_type": "code",
   "execution_count": 3,
   "metadata": {},
   "outputs": [],
   "source": [
    "from maxwellbloch import mb_solve\n",
    "mb_solve_00 = mb_solve.MBSolve().from_json_str(mb_solve_json)"
   ]
  },
  {
   "cell_type": "markdown",
   "metadata": {},
   "source": [
    "We'll just check that the pulse area is what we want."
   ]
  },
  {
   "cell_type": "code",
   "execution_count": 4,
   "metadata": {},
   "outputs": [
    {
     "name": "stdout",
     "output_type": "stream",
     "text": [
      "The input pulse area is 1.794059006533307\n"
     ]
    }
   ],
   "source": [
    "print('The input pulse area is {0}'.format(np.trapz(mb_solve_00.Omegas_zt[0,0,:].real, \n",
    "                                                    mb_solve_00.tlist)/np.pi))"
   ]
  },
  {
   "cell_type": "markdown",
   "metadata": {},
   "source": [
    "## Solve the Problem"
   ]
  },
  {
   "cell_type": "code",
   "execution_count": 5,
   "metadata": {},
   "outputs": [
    {
     "name": "stdout",
     "output_type": "stream",
     "text": [
      "Loaded tuple object.\n",
      "CPU times: user 3.37 ms, sys: 6.4 ms, total: 9.76 ms\n",
      "Wall time: 10.9 ms\n"
     ]
    }
   ],
   "source": [
    "time Omegas_zt, states_zt = mb_solve_00.mbsolve(recalc=False)"
   ]
  },
  {
   "cell_type": "markdown",
   "metadata": {},
   "source": [
    "## Plot Output"
   ]
  },
  {
   "cell_type": "code",
   "execution_count": 6,
   "metadata": {},
   "outputs": [
    {
     "data": {
      "image/png": "[encoded data removed]",
      "text/plain": [
       "<Figure size 1152x432 with 2 Axes>"
      ]
     },
     "metadata": {},
     "output_type": "display_data"
    }
   ],
   "source": [
    "import matplotlib.pyplot as plt\n",
    "%matplotlib inline\n",
    "import seaborn as sns\n",
    "\n",
    "import numpy as np\n",
    "\n",
    "sns.set_style(\"darkgrid\")\n",
    "fig = plt.figure(1, figsize=(16, 6))\n",
    "ax = fig.add_subplot(111)\n",
    "cmap_range = np.linspace(0.0, 0.8, 11)\n",
    "cf = ax.contourf(mb_solve_00.tlist, mb_solve_00.zlist, \n",
    "                 np.abs(mb_solve_00.Omegas_zt[0]/(2*np.pi)), \n",
    "                 cmap_range, cmap=plt.cm.Blues)\n",
    "ax.set_title('Rabi Frequency ($\\Gamma / 2\\pi $)')\n",
    "ax.set_xlabel('Time ($1/\\Gamma$)')\n",
    "ax.set_ylabel('Distance ($L$)')\n",
    "for y in [0.0, 1.0]:\n",
    "    ax.axhline(y, c='grey', lw=1.0, ls='dotted')\n",
    "plt.colorbar(cf)\n",
    "plt.savefig('images/mb-solve-two-sech-1.8pi.png')"
   ]
  },
  {
   "cell_type": "code",
   "execution_count": 7,
   "metadata": {},
   "outputs": [
    {
     "data": {
      "image/png": "[encoded data removed]",
      "text/plain": [
       "<Figure size 1152x288 with 1 Axes>"
      ]
     },
     "metadata": {},
     "output_type": "display_data"
    }
   ],
   "source": [
    "fig, ax = plt.subplots(figsize=(16, 4))\n",
    "ax.plot(mb_solve_00.zlist, mb_solve_00.fields_area()[0]/np.pi, clip_on=False)\n",
    "ax.set_ylim([0.0, 4.0])\n",
    "ax.set_xlabel('Distance ($L$)')\n",
    "ax.set_ylabel('Pulse Area ($\\pi$)');"
   ]
  },
  {
   "cell_type": "markdown",
   "metadata": {},
   "source": [
    "## Analysis\n",
    "\n",
    "The $1.8 \\pi$ pulse increases to a $2\\pi$ pulse on entering the medium and propagates through."
   ]
  },
  {
   "cell_type": "markdown",
   "metadata": {},
   "source": [
    "## Movie"
   ]
  },
  {
   "cell_type": "code",
   "execution_count": 8,
   "metadata": {},
   "outputs": [],
   "source": [
    "C = 0.1 # speed of light\n",
    "Y_MIN = 0.0 # Y-axis min\n",
    "Y_MAX = 1.0 # y-axis max\n",
    "ZOOM = 2 # level of linear interpolation\n",
    "FPS = 30 # frames per second\n",
    "ATOMS_ALPHA = 0.2 # Atom indicator transparency"
   ]
  },
  {
   "cell_type": "code",
   "execution_count": 9,
   "metadata": {},
   "outputs": [],
   "source": [
    "FNAME = \"images/mb-solve-two-sech-1.8pi\"\n",
    "FNAME_JSON = FNAME + '.json'\n",
    "with open(FNAME_JSON, \"w\") as f:\n",
    "    f.write(mb_solve_json)"
   ]
  },
  {
   "cell_type": "code",
   "execution_count": 10,
   "metadata": {},
   "outputs": [
    {
     "name": "stdout",
     "output_type": "stream",
     "text": [
      "Namespace(atoms_alpha='0.2', c_line=False, file='images/mb-solve-two-sech-1.8pi.json', fps='30', peak_line=False, save_path='./', speed_of_light='0.1', y_max='1.0', y_min='0.0', zoom='2')\n",
      "Loaded tuple object.\n",
      "Saving MP4\n",
      "./images/mb-solve-two-sech-1.8pi.mp4\n",
      "Figure(1200x400)\n"
     ]
    }
   ],
   "source": [
    "!make-mp4-fixed-frame.py -f $FNAME_JSON -c $C --fps $FPS --y-min $Y_MIN --y-max $Y_MAX \\\n",
    "    --zoom $ZOOM --atoms-alpha $ATOMS_ALPHA #--peak-line --c-line"
   ]
  },
  {
   "cell_type": "code",
   "execution_count": 11,
   "metadata": {},
   "outputs": [
    {
     "name": "stdout",
     "output_type": "stream",
     "text": [
      "Converting images/mb-solve-two-sech-1.8pi.mp4 to gif format\n",
      "Input Scale: 900\n",
      "Input FPS: 30\n",
      "Output Scale: 900\n",
      "Output FPS: 30\n",
      "/Users/tommy/.miniconda3/envs/mb-0.4.0/bin/make-gif-ffmpeg.sh: line 59: Y: command not found\n",
      "ffmpeg version 3.2.4 Copyright (c) 2000-2017 the FFmpeg developers\n",
      "  built with Apple LLVM version 8.0.0 (clang-800.0.42.1)\n",
      "  configuration: --prefix=/usr/local/Cellar/ffmpeg/3.2.4 --enable-shared --enable-pthreads --enable-gpl --enable-version3 --enable-hardcoded-tables --enable-avresample --cc=clang --host-cflags= --host-ldflags= --enable-libmp3lame --enable-libx264 --enable-libxvid --enable-opencl --disable-lzma --enable-vda\n",
      "  libavutil      55. 34.101 / 55. 34.101\n",
      "  libavcodec     57. 64.101 / 57. 64.101\n",
      "  libavformat    57. 56.101 / 57. 56.101\n",
      "  libavdevice    57.  1.100 / 57.  1.100\n",
      "  libavfilter     6. 65.100 /  6. 65.100\n",
      "  libavresample   3.  1.  0 /  3.  1.  0\n",
      "  libswscale      4.  2.100 /  4.  2.100\n",
      "  libswresample   2.  3.100 /  2.  3.100\n",
      "  libpostproc    54.  1.100 / 54.  1.100\n",
      "Input #0, mov,mp4,m4a,3gp,3g2,mj2, from 'images/mb-solve-two-sech-1.8pi.mp4':\n",
      "  Metadata:\n",
      "    major_brand     : isom\n",
      "    minor_version   : 512\n",
      "    compatible_brands: isomiso2avc1mp41\n",
      "    artist          : Me\n",
      "    encoder         : Lavf57.56.101\n",
      "  Duration: 00:00:08.07, start: 0.000000, bitrate: 676 kb/s\n",
      "    Stream #0:0(und): Video: h264 (High) (avc1 / 0x31637661), yuv420p, 1200x400, 673 kb/s, 30 fps, 30 tbr, 15360 tbn, 60 tbc (default)\n",
      "    Metadata:\n",
      "      handler_name    : VideoHandler\n",
      "Output #0, image2, to 'palette.png':\n",
      "  Metadata:\n",
      "    major_brand     : isom\n",
      "    minor_version   : 512\n",
      "    compatible_brands: isomiso2avc1mp41\n",
      "    artist          : Me\n",
      "    encoder         : Lavf57.56.101\n",
      "    Stream #0:0(und): Video: png, rgba, 16x16 [SAR 1:1 DAR 1:1], q=2-31, 200 kb/s, 30 fps, 30 tbn, 30 tbc (default)\n",
      "    Metadata:\n",
      "      handler_name    : VideoHandler\n",
      "      encoder         : Lavc57.64.101 png\n",
      "Stream mapping:\n",
      "  Stream #0:0 -> #0:0 (h264 (native) -> png (native))\n",
      "Press [q] to stop, [?] for help\n",
      "\u001b[1;32m[Parsed_palettegen_2 @ 0x7ffbfcd01140] \u001b[0m255(+1) colors generated out of 67012 colors; ratio=0.003805\n",
      "\u001b[1;32m[Parsed_palettegen_2 @ 0x7ffbfcd01140] \u001b[0m\u001b[0;33mDupped color: FF8CB4AA\n",
      "\u001b[0m\u001b[1;32m[Parsed_palettegen_2 @ 0x7ffbfcd01140] \u001b[0m\u001b[0;33mDupped color: FFC8CFE1\n",
      "    Last message repeated 1 times\n",
      "\u001b[1;32m[Parsed_palettegen_2 @ 0x7ffbfcd01140] \u001b[0m\u001b[0;33mDupped color: FFE9E7EF\n",
      "\u001b[0m\u001b[1;32m[Parsed_palettegen_2 @ 0x7ffbfcd01140] \u001b[0m\u001b[0;33mDupped color: FFE9E9F3\n",
      "\u001b[0m\u001b[1;32m[Parsed_palettegen_2 @ 0x7ffbfcd01140] \u001b[0m\u001b[0;33mDupped color: FFFDFDFD\n",
      "\u001b[0mframe=    1 fps=0.8 q=-0.0 Lsize=N/A time=00:00:00.03 bitrate=N/A speed=0.0282x    \n",
      "video:1kB audio:0kB subtitle:0kB other streams:0kB global headers:0kB muxing overhead: unknown\n",
      "Outputting to .gif\n",
      "ffmpeg version 3.2.4 Copyright (c) 2000-2017 the FFmpeg developers\n",
      "  built with Apple LLVM version 8.0.0 (clang-800.0.42.1)\n",
      "  configuration: --prefix=/usr/local/Cellar/ffmpeg/3.2.4 --enable-shared --enable-pthreads --enable-gpl --enable-version3 --enable-hardcoded-tables --enable-avresample --cc=clang --host-cflags= --host-ldflags= --enable-libmp3lame --enable-libx264 --enable-libxvid --enable-opencl --disable-lzma --enable-vda\n",
      "  libavutil      55. 34.101 / 55. 34.101\n",
      "  libavcodec     57. 64.101 / 57. 64.101\n",
      "  libavformat    57. 56.101 / 57. 56.101\n",
      "  libavdevice    57.  1.100 / 57.  1.100\n",
      "  libavfilter     6. 65.100 /  6. 65.100\n",
      "  libavresample   3.  1.  0 /  3.  1.  0\n",
      "  libswscale      4.  2.100 /  4.  2.100\n",
      "  libswresample   2.  3.100 /  2.  3.100\n",
      "  libpostproc    54.  1.100 / 54.  1.100\n",
      "Input #0, mov,mp4,m4a,3gp,3g2,mj2, from 'images/mb-solve-two-sech-1.8pi.mp4':\n",
      "  Metadata:\n",
      "    major_brand     : isom\n",
      "    minor_version   : 512\n",
      "    compatible_brands: isomiso2avc1mp41\n",
      "    artist          : Me\n",
      "    encoder         : Lavf57.56.101\n",
      "  Duration: 00:00:08.07, start: 0.000000, bitrate: 676 kb/s\n",
      "    Stream #0:0(und): Video: h264 (High) (avc1 / 0x31637661), yuv420p, 1200x400, 673 kb/s, 30 fps, 30 tbr, 15360 tbn, 60 tbc (default)\n",
      "    Metadata:\n",
      "      handler_name    : VideoHandler\n",
      "Input #1, png_pipe, from 'palette.png':\n",
      "  Duration: N/A, bitrate: N/A\n",
      "    Stream #1:0: Video: png, rgba(pc), 16x16 [SAR 1:1 DAR 1:1], 25 tbr, 25 tbn, 25 tbc\n",
      "Output #0, gif, to '.gif':\n",
      "  Metadata:\n",
      "    major_brand     : isom\n",
      "    minor_version   : 512\n",
      "    compatible_brands: isomiso2avc1mp41\n",
      "    artist          : Me\n",
      "    encoder         : Lavf57.56.101\n",
      "    Stream #0:0: Video: gif, pal8, 900x300, q=2-31, 200 kb/s, 30 fps, 100 tbn, 30 tbc (default)\n",
      "    Metadata:\n",
      "      encoder         : Lavc57.64.101 gif\n",
      "Stream mapping:\n",
      "  Stream #0:0 (h264) -> fps\n",
      "  Stream #1:0 (png) -> paletteuse:palette\n",
      "  paletteuse -> Stream #0:0 (gif)\n",
      "Press [q] to stop, [?] for help\n",
      "frame=  242 fps= 59 q=-0.0 Lsize=    1529kB time=00:00:08.04 bitrate=1557.4kbits/s speed=1.94x    \n",
      "video:1526kB audio:0kB subtitle:0kB other streams:0kB global headers:0kB muxing overhead: 0.175173%\n"
     ]
    }
   ],
   "source": [
    "FNAME_MP4 = FNAME + '.mp4'\n",
    "!make-gif-ffmpeg.sh -f $FNAME_MP4 --in-fps $FPS"
   ]
  },
  {
   "cell_type": "code",
   "execution_count": 12,
   "metadata": {},
   "outputs": [
    {
     "data": {
      "text/html": [
       "<img src=\"images/mb-solve-two-sech-1.8pi.mp4.gif\"/>"
      ],
      "text/plain": [
       "<IPython.core.display.Image object>"
      ]
     },
     "execution_count": 12,
     "metadata": {},
     "output_type": "execute_result"
    }
   ],
   "source": [
    "from IPython.display import Image\n",
    "Image(url=FNAME_MP4 +'.gif', format='gif')"
   ]
  }
 ],
 "metadata": {
  "kernelspec": {
   "display_name": "Python 3",
   "language": "python",
   "name": "python3"
  },
  "language_info": {
   "codemirror_mode": {
    "name": "ipython",
    "version": 3
   },
   "file_extension": ".py",
   "mimetype": "text/x-python",
   "name": "python",
   "nbconvert_exporter": "python",
   "pygments_lexer": "ipython3",
   "version": "3.6.0"
  }
 },
 "nbformat": 4,
 "nbformat_minor": 2
}
