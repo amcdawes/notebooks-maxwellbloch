{
 "cells": [
  {
   "cell_type": "markdown",
   "metadata": {},
   "source": [
    "# Two-Level: Sech Pulse 2π — Narrow, with Decay\n",
    "\n",
    "Time taken to solve this problem on a 2013 MacBook Pro:\n",
    "**11min 41s**"
   ]
  },
  {
   "cell_type": "markdown",
   "metadata": {},
   "source": [
    "## Define the Problem\n",
    "\n",
    "First we need to define a sech pulse with the area we want. We'll fix the width of the pulse and the area to find the right amplitude.\n",
    "\n",
    "The full-width at half maximum (FWHM) $t_s$ of the sech pulse is related to the FWHM of a Gaussian by a factor of $1/2.6339157938$. (See §3.2.2 of my [PhD thesis](https://github.com/tommyogden/phd-thesis)).\n",
    "\n",
    "We then obtain the amplitude $a$ we need from\n",
    "\n",
    "$$\n",
    "a = \\frac{n}{2 \\pi ~ t_s}\n",
    "$$"
   ]
  },
  {
   "cell_type": "code",
   "execution_count": 1,
   "metadata": {
    "collapsed": false
   },
   "outputs": [
    {
     "name": "stdout",
     "output_type": "stream",
     "text": [
      "t_width 0.003796628587572578\n",
      "ampl 83.84014365421667\n"
     ]
    }
   ],
   "source": [
    "import numpy as np\n",
    "\n",
    "sech_fwhm_conv = 1./2.6339157938\n",
    "t_width = 0.01*sech_fwhm_conv # [τ]\n",
    "\n",
    "print('t_width', t_width)\n",
    "\n",
    "n = 2.0 # For a pulse area of nπ    \n",
    "ampl = n/t_width/(2*np.pi) # Pulse amplitude [2π Γ]\n",
    "\n",
    "print('ampl', ampl)"
   ]
  },
  {
   "cell_type": "code",
   "execution_count": 2,
   "metadata": {
    "collapsed": true
   },
   "outputs": [],
   "source": [
    "mb_solve_json = \"\"\"\n",
    "{\n",
    "  \"atom\": {\n",
    "    \"decays\": [\n",
    "      {\n",
    "        \"channels\": [[0, 1]],\n",
    "        \"rate\": 1.0\n",
    "      }\n",
    "    ],\n",
    "    \"energies\": [],\n",
    "    \"fields\": [\n",
    "      {\n",
    "        \"coupled_levels\": [[0, 1]],\n",
    "        \"detuning\": 0.0,\n",
    "        \"detuning_positive\": true,\n",
    "        \"label\": \"probe\",\n",
    "        \"rabi_freq\": 83.84014365421667,\n",
    "        \"rabi_freq_t_args\": {\n",
    "          \"ampl\": 1.0,\n",
    "          \"centre\": 0.0,\n",
    "          \"width\": 0.003796628587572578\n",
    "        },\n",
    "        \"rabi_freq_t_func\": \"sech\"\n",
    "      }\n",
    "    ],\n",
    "    \"num_states\": 2\n",
    "  },\n",
    "  \"t_min\": -0.02,\n",
    "  \"t_max\": 0.1,\n",
    "  \"t_steps\": 120,\n",
    "  \"z_min\": -0.2,\n",
    "  \"z_max\": 1.2,\n",
    "  \"z_steps\": 70,\n",
    "  \"z_steps_inner\": 5,\n",
    "  \"num_density_z_func\": \"square\",\n",
    "  \"num_density_z_args\": {\n",
    "    \"on\": 0.0,\n",
    "    \"off\": 1.0,\n",
    "    \"ampl\": 1.0\n",
    "  },\n",
    "  \"interaction_strengths\": [\n",
    "    1.0e3\n",
    "  ],\n",
    "  \"velocity_classes\": null,\n",
    "  \"method\": \"mesolve\",\n",
    "  \"opts\": {},\n",
    "  \"savefile\": \"qu/mb-solve-two-sech-2pi-narrower-even-more-atoms-decay\"\n",
    "}\n",
    "\"\"\""
   ]
  },
  {
   "cell_type": "code",
   "execution_count": 3,
   "metadata": {
    "collapsed": false
   },
   "outputs": [],
   "source": [
    "from maxwellbloch import mb_solve\n",
    "mb_solve_00 = mb_solve.MBSolve().from_json_str(mb_solve_json)"
   ]
  },
  {
   "cell_type": "markdown",
   "metadata": {},
   "source": [
    "We'll just check that the pulse area is what we want."
   ]
  },
  {
   "cell_type": "code",
   "execution_count": 4,
   "metadata": {
    "collapsed": false
   },
   "outputs": [
    {
     "name": "stdout",
     "output_type": "stream",
     "text": [
      "The input pulse area is 1.993398896148119\n"
     ]
    }
   ],
   "source": [
    "print('The input pulse area is {0}'.format(np.trapz(mb_solve_00.Omegas_zt[0,0,:].real, \n",
    "                                                    mb_solve_00.tlist)/np.pi))"
   ]
  },
  {
   "cell_type": "markdown",
   "metadata": {},
   "source": [
    "## Solve the Problem"
   ]
  },
  {
   "cell_type": "code",
   "execution_count": 5,
   "metadata": {
    "collapsed": false
   },
   "outputs": [
    {
     "name": "stdout",
     "output_type": "stream",
     "text": [
      "Loaded tuple object.\n",
      "CPU times: user 1.93 ms, sys: 2.72 ms, total: 4.65 ms\n",
      "Wall time: 4.19 ms\n"
     ]
    }
   ],
   "source": [
    "%time Omegas_zt, states_zt = mb_solve_00.mbsolve(step='ab', recalc=False)"
   ]
  },
  {
   "cell_type": "markdown",
   "metadata": {},
   "source": [
    "## Plot Output"
   ]
  },
  {
   "cell_type": "code",
   "execution_count": 6,
   "metadata": {
    "collapsed": false
   },
   "outputs": [
    {
     "data": {
      "image/png": "[encoded data removed]",
      "text/plain": [
       "<Figure size 1152x432 with 2 Axes>"
      ]
     },
     "metadata": {},
     "output_type": "display_data"
    }
   ],
   "source": [
    "import matplotlib.pyplot as plt\n",
    "%matplotlib inline\n",
    "import seaborn as sns\n",
    "\n",
    "import numpy as np\n",
    "\n",
    "fig = plt.figure(1, figsize=(16, 6))\n",
    "ax = fig.add_subplot(111)\n",
    "cmap_range = np.linspace(0.0, 100.0, 11)\n",
    "cf = ax.contourf(mb_solve_00.tlist, mb_solve_00.zlist, \n",
    "                 np.abs(mb_solve_00.Omegas_zt[0]/(2*np.pi)), \n",
    "                 cmap_range, cmap=plt.cm.Blues)\n",
    "ax.set_title('Rabi Frequency ($\\Gamma / 2\\pi $)')\n",
    "ax.set_xlabel('Time ($1/\\Gamma$)')\n",
    "ax.set_ylabel('Distance ($L$)')\n",
    "for y in [0.0, 1.0]:\n",
    "    ax.axhline(y, c='grey', lw=1.0, ls='dotted')\n",
    "plt.colorbar(cf)\n",
    "plt.savefig('images/mb-solve-two-sech-2pi-narrower-even-more-atoms-decay.png')"
   ]
  },
  {
   "cell_type": "code",
   "execution_count": 7,
   "metadata": {
    "collapsed": false
   },
   "outputs": [
    {
     "data": {
      "text/plain": [
       "Text(0,0.5,'Pulse Area ($\\\\pi$)')"
      ]
     },
     "execution_count": 7,
     "metadata": {},
     "output_type": "execute_result"
    },
    {
     "data": {
      "image/png": "[encoded data removed]",
      "text/plain": [
       "<Figure size 1152x360 with 1 Axes>"
      ]
     },
     "metadata": {},
     "output_type": "display_data"
    }
   ],
   "source": [
    "fig, ax = plt.subplots(figsize=(16, 5))\n",
    "ax.plot(mb_solve_00.zlist, mb_solve_00.fields_area()[0]/np.pi)\n",
    "ax.set_ylim([0.0, 4.0])\n",
    "ax.set_xlabel('Distance ($L$)')\n",
    "ax.set_ylabel('Pulse Area ($\\pi$)')"
   ]
  },
  {
   "cell_type": "markdown",
   "metadata": {},
   "source": [
    "## Analysis\n",
    "\n",
    "The $2 \\pi$ sech pulse spreads and loses amplitude as it moves through atoms with spontaneous decay."
   ]
  }
 ],
 "metadata": {
  "kernelspec": {
   "display_name": "Python 3",
   "language": "python",
   "name": "python3"
  },
  "language_info": {
   "codemirror_mode": {
    "name": "ipython",
    "version": 3
   },
   "file_extension": ".py",
   "mimetype": "text/x-python",
   "name": "python",
   "nbconvert_exporter": "python",
   "pygments_lexer": "ipython3",
   "version": "3.5.5"
  }
 },
 "nbformat": 4,
 "nbformat_minor": 2
}
