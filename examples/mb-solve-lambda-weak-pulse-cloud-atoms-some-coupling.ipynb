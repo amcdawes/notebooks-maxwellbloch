{
 "cells": [
  {
   "cell_type": "markdown",
   "metadata": {},
   "source": [
    "# Λ-Type Three-Level: Weak Pulse with Coupling in a Cloud — Pulse Compression\n",
    "\n",
    "Time taken to solve this problem on a 2013 MacBook Pro:\n",
    "**3h 22min 1s**"
   ]
  },
  {
   "cell_type": "markdown",
   "metadata": {},
   "source": [
    "## Define the Problem"
   ]
  },
  {
   "cell_type": "code",
   "execution_count": 1,
   "metadata": {
    "collapsed": true
   },
   "outputs": [],
   "source": [
    "mb_solve_json = \"\"\"\n",
    "{\n",
    "  \"atom\": {\n",
    "    \"decays\": [\n",
    "      { \"channels\": [[0,1], [1,2]], \n",
    "        \"rate\": 0.0\n",
    "      }\n",
    "    ],\n",
    "    \"energies\": [],\n",
    "    \"fields\": [\n",
    "      {\n",
    "        \"coupled_levels\": [[0, 1]],\n",
    "        \"detuning\": 0.0,\n",
    "        \"detuning_positive\": true,\n",
    "        \"label\": \"probe\",\n",
    "        \"rabi_freq\": 1.0e-3,\n",
    "        \"rabi_freq_t_args\": \n",
    "          {\n",
    "             \"ampl\": 1.0,\n",
    "             \"centre\": 0.0,\n",
    "             \"fwhm\": 1.0\n",
    "          },\n",
    "        \"rabi_freq_t_func\": \"gaussian\"\n",
    "      },\n",
    "      {\n",
    "        \"coupled_levels\": [[1, 2]],\n",
    "        \"detuning\": 0.0,\n",
    "        \"detuning_positive\": false,\n",
    "        \"label\": \"coupling\",\n",
    "        \"rabi_freq\": 5.0,\n",
    "        \"rabi_freq_t_args\": \n",
    "        {\n",
    "          \"ampl\": 1.0,\n",
    "          \"fwhm\": 0.2,\n",
    "          \"on\": -1.0, \n",
    "          \"off\": 9.0\n",
    "          },\n",
    "        \"rabi_freq_t_func\": \"ramp_onoff\"\n",
    "      }\n",
    "    ],\n",
    "    \"num_states\": 3\n",
    "  },\n",
    "  \"t_min\": -2.0,\n",
    "  \"t_max\": 10.0,\n",
    "  \"t_steps\": 120,\n",
    "  \"z_min\": -0.2,\n",
    "  \"z_max\": 1.2,\n",
    "  \"z_steps\": 70,\n",
    "  \"z_steps_inner\": 100,\n",
    "  \"num_density_z_func\": \"gaussian\",\n",
    "  \"num_density_z_args\": {\n",
    "    \"ampl\": 1.0,\n",
    "    \"fwhm\": 0.5,\n",
    "    \"centre\": 0.5\n",
    "  },\n",
    "  \"interaction_strengths\": [1.0e3, 1.0e3],\n",
    "  \"velocity_classes\": null,\n",
    "  \"method\": \"mesolve\",\n",
    "  \"opts\": {},\n",
    "  \"savefile\": \"qu/mb-solve-lambda-weak-pulse-cloud-atoms-some-coupling\" \n",
    "}\n",
    "\"\"\""
   ]
  },
  {
   "cell_type": "code",
   "execution_count": 2,
   "metadata": {
    "collapsed": false
   },
   "outputs": [],
   "source": [
    "from maxwellbloch import mb_solve\n",
    "mb_solve_00 = mb_solve.MBSolve().from_json_str(mb_solve_json)"
   ]
  },
  {
   "cell_type": "markdown",
   "metadata": {},
   "source": [
    "### Number Density Profile\n",
    "\n",
    "In this case we've defined a non-square profile for the number density as a function of $z$ (`num_density_z_func`). "
   ]
  },
  {
   "cell_type": "code",
   "execution_count": 3,
   "metadata": {
    "collapsed": false
   },
   "outputs": [
    {
     "data": {
      "text/plain": [
       "[<matplotlib.lines.Line2D at 0x1c0ebfa710>]"
      ]
     },
     "execution_count": 3,
     "metadata": {},
     "output_type": "execute_result"
    },
    {
     "data": {
      "image/png": "[encoded data removed]",
      "text/plain": [
       "<Figure size 432x288 with 1 Axes>"
      ]
     },
     "metadata": {},
     "output_type": "display_data"
    }
   ],
   "source": [
    "import matplotlib.pyplot as plt\n",
    "%matplotlib inline\n",
    "import seaborn as sns\n",
    "\n",
    "plt.plot(mb_solve_00.zlist, \n",
    "         mb_solve_00.num_density_z_func(mb_solve_00.zlist, \n",
    "                                        mb_solve_00.num_density_z_args))"
   ]
  },
  {
   "cell_type": "markdown",
   "metadata": {},
   "source": [
    "## Solve the Problem"
   ]
  },
  {
   "cell_type": "code",
   "execution_count": 4,
   "metadata": {
    "collapsed": false
   },
   "outputs": [
    {
     "name": "stdout",
     "output_type": "stream",
     "text": [
      "10.0%. Run time: 993.64s. Est. time left: 00:02:29:02\n"
     ]
    },
    {
     "name": "stdout",
     "output_type": "stream",
     "text": [
      "20.0%. Run time: 2064.15s. Est. time left: 00:02:17:36\n"
     ]
    },
    {
     "name": "stdout",
     "output_type": "stream",
     "text": [
      "30.0%. Run time: 3108.21s. Est. time left: 00:02:00:52\n"
     ]
    },
    {
     "name": "stdout",
     "output_type": "stream",
     "text": [
      "40.0%. Run time: 4111.55s. Est. time left: 00:01:42:47\n"
     ]
    },
    {
     "name": "stdout",
     "output_type": "stream",
     "text": [
      "50.0%. Run time: 5010.16s. Est. time left: 00:01:23:30\n"
     ]
    },
    {
     "name": "stdout",
     "output_type": "stream",
     "text": [
      "60.0%. Run time: 5841.82s. Est. time left: 00:01:04:54\n"
     ]
    },
    {
     "name": "stdout",
     "output_type": "stream",
     "text": [
      "70.0%. Run time: 6640.84s. Est. time left: 00:00:47:26\n"
     ]
    },
    {
     "name": "stdout",
     "output_type": "stream",
     "text": [
      "80.0%. Run time: 7450.60s. Est. time left: 00:00:31:02\n"
     ]
    },
    {
     "name": "stdout",
     "output_type": "stream",
     "text": [
      "90.0%. Run time: 8267.37s. Est. time left: 00:00:15:18\n"
     ]
    },
    {
     "name": "stdout",
     "output_type": "stream",
     "text": [
      "Total run time: 9079.73s\n",
      "Saving MBSolve to qu/mb-solve-lambda-weak-pulse-cloud-atoms-some-coupling .qu\n",
      "CPU times: user 2h 30min 44s, sys: 26.3 s, total: 2h 31min 10s\n",
      "Wall time: 2h 31min 23s\n"
     ]
    }
   ],
   "source": [
    "%time Omegas_zt, states_zt = mb_solve_00.mbsolve(recalc=False)"
   ]
  },
  {
   "cell_type": "markdown",
   "metadata": {},
   "source": [
    "## Plot Output"
   ]
  },
  {
   "cell_type": "code",
   "execution_count": 5,
   "metadata": {
    "collapsed": false
   },
   "outputs": [
    {
     "data": {
      "image/png": "[encoded data removed]",
      "text/plain": [
       "<Figure size 1152x864 with 4 Axes>"
      ]
     },
     "metadata": {},
     "output_type": "display_data"
    }
   ],
   "source": [
    "import numpy as np\n",
    "\n",
    "fig = plt.figure(1, figsize=(16, 12))\n",
    "\n",
    "# Probe \n",
    "ax = fig.add_subplot(211)\n",
    "cmap_range = np.linspace(0.0, 1.0e-3, 11)\n",
    "cf = ax.contourf(mb_solve_00.tlist, mb_solve_00.zlist, \n",
    "                 np.abs(mb_solve_00.Omegas_zt[0]/(2*np.pi)), \n",
    "                 cmap_range, cmap=plt.cm.Blues)\n",
    "ax.set_title('Rabi Frequency ($\\Gamma / 2\\pi $)')\n",
    "ax.set_ylabel('Distance ($L$)')\n",
    "ax.text(0.02, 0.95, 'Probe',\n",
    "        verticalalignment='top', horizontalalignment='left',\n",
    "        transform=ax.transAxes, color='grey', fontsize=16)\n",
    "plt.colorbar(cf)\n",
    "\n",
    "# Coupling\n",
    "ax = fig.add_subplot(212)\n",
    "cmap_range = np.linspace(0.0, 8.0, 11)\n",
    "cf = ax.contourf(mb_solve_00.tlist, mb_solve_00.zlist, \n",
    "                 np.abs(mb_solve_00.Omegas_zt[1]/(2*np.pi)), \n",
    "                 cmap_range, cmap=plt.cm.Greens)\n",
    "ax.set_xlabel('Time ($1/\\Gamma$)')\n",
    "ax.set_ylabel('Distance ($L$)')\n",
    "ax.text(0.02, 0.95, 'Coupling',\n",
    "        verticalalignment='top', horizontalalignment='left',\n",
    "        transform=ax.transAxes, color='grey', fontsize=16)\n",
    "plt.colorbar(cf)\n",
    "\n",
    "# Both\n",
    "for ax in fig.axes:\n",
    "    for y in [0.0, 1.0]:\n",
    "        ax.axhline(y, c='grey', lw=1.0, ls='dotted')\n",
    "plt.tight_layout()\n",
    "plt.savefig('images/mb-solve-lambda-weak-pulse-cloud-atoms-some-coupling.png')"
   ]
  },
  {
   "cell_type": "markdown",
   "metadata": {},
   "source": [
    "## Analysis\n",
    "\n",
    "From my [thesis](https://github.com/tommyogden/phd-thesis), §4.3.2.\n",
    "\n",
    "> This high coefficient might correspond to either a particularly long or dense medium. We see from the gradient of the profile that the pulse slows down considerably as the density increases, and speeds up again as it leaves the medium. The overall slow-light effect is large, with the pulse arriving $8 \\tau$ later than it would covering the same distance in vacuo.\n",
    "\n",
    ">At the same time as it is slowed, the spatial extent of the pulse is significantly decreased as it moves into the high-density region. This happens because as the pulse moves into the medium its leading edge slows down before the trailing edge while the field strength remains the same, causing the pulse to ‘bunch up‘. The pulse is compressed by a factor $v g/c$. In the BEC experiment mentioned above, light pulses were com- pressed from kilometre to sub-millimetre scale."
   ]
  }
 ],
 "metadata": {
  "kernelspec": {
   "display_name": "Python 3",
   "language": "python",
   "name": "python3"
  },
  "language_info": {
   "codemirror_mode": {
    "name": "ipython",
    "version": 3
   },
   "file_extension": ".py",
   "mimetype": "text/x-python",
   "name": "python",
   "nbconvert_exporter": "python",
   "pygments_lexer": "ipython3",
   "version": "3.5.5"
  }
 },
 "nbformat": 4,
 "nbformat_minor": 2
}
