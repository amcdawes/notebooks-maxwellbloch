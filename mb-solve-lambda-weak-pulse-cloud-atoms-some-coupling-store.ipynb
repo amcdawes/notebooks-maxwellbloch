{
 "cells": [
  {
   "cell_type": "markdown",
   "metadata": {},
   "source": [
    "Wall time: 2h 32min 15s"
   ]
  },
  {
   "cell_type": "code",
   "execution_count": 1,
   "metadata": {
    "collapsed": true
   },
   "outputs": [],
   "source": [
    "NOTEBOOK_NAME = \"mb-solve-lambda-weak-pulse-cloud-atoms-some-coupling-store\""
   ]
  },
  {
   "cell_type": "code",
   "execution_count": 2,
   "metadata": {
    "collapsed": true
   },
   "outputs": [],
   "source": [
    "mb_solve_json = \"\"\"\n",
    "{\n",
    "  \"ob_atom\": {\n",
    "    \"decays\": [\n",
    "      { \"channels\": [[0,1], [1,2]], \n",
    "        \"rate\": 0.0\n",
    "      }\n",
    "    ],\n",
    "    \"energies\": [],\n",
    "    \"fields\": [\n",
    "      {\n",
    "        \"coupled_levels\": [[0, 1]],\n",
    "        \"detuning\": 0.0,\n",
    "        \"detuning_positive\": true,\n",
    "        \"label\": \"probe\",\n",
    "        \"rabi_freq\": 1.0e-3,\n",
    "        \"rabi_freq_t_args\": \n",
    "          {\n",
    "             \"ampl_1\": 1.0,\n",
    "             \"centre_1\": 0.0,\n",
    "             \"fwhm_1\": 1.0\n",
    "          },\n",
    "        \"rabi_freq_t_func\": \"gaussian_1\"\n",
    "      },\n",
    "      {\n",
    "        \"coupled_levels\": [[1, 2]],\n",
    "        \"detuning\": 0.0,\n",
    "        \"detuning_positive\": false,\n",
    "        \"label\": \"coupling\",\n",
    "        \"rabi_freq\": 5.0,\n",
    "        \"rabi_freq_t_args\": \n",
    "        {\n",
    "          \"ampl_2\": 1.0,\n",
    "          \"fwhm_2\": 0.2,\n",
    "          \"off_2\": 4.0, \n",
    "          \"on_2\": 6.0\n",
    "          },\n",
    "        \"rabi_freq_t_func\": \"ramp_offon_2\"\n",
    "      }\n",
    "    ],\n",
    "    \"num_states\": 3\n",
    "  },\n",
    "  \"t_min\": -2.0,\n",
    "  \"t_max\": 12.0,\n",
    "  \"t_steps\": 140,\n",
    "  \"z_min\": -0.2,\n",
    "  \"z_max\": 1.2,\n",
    "  \"z_steps\": 140,\n",
    "  \"z_steps_inner\": 50,\n",
    "  \"num_density_z_func\": \"gaussian_1\",\n",
    "  \"num_density_z_args\": {\n",
    "    \"ampl_1\": 1.0,\n",
    "    \"fwhm_1\": 0.5,\n",
    "    \"centre_1\": 0.5\n",
    "  },\n",
    "  \"interaction_strengths\": [1.0e3, 1.0e3],\n",
    "  \"velocity_classes\": {\n",
    "    \"thermal_delta_min\": -0.0,\n",
    "    \"thermal_delta_max\": 0.0,\n",
    "    \"thermal_delta_steps\": 0,\n",
    "    \"thermal_delta_inner_min\": 0.0,\n",
    "    \"thermal_delta_inner_max\": 0.0,\n",
    "    \"thermal_delta_inner_steps\": 0,\n",
    "    \"thermal_width\": 1.0\n",
    "  },\n",
    "  \"method\": \"mesolve\",\n",
    "  \"opts\": {},\n",
    "  \"savefile\": \"qu/%s\" \n",
    "}\n",
    "\"\"\"%(NOTEBOOK_NAME)"
   ]
  },
  {
   "cell_type": "code",
   "execution_count": 3,
   "metadata": {
    "collapsed": false
   },
   "outputs": [],
   "source": [
    "from maxwellbloch import mb_solve\n",
    "mb_solve_00 = mb_solve.MBSolve().from_json_str(mb_solve_json)"
   ]
  },
  {
   "cell_type": "code",
   "execution_count": 4,
   "metadata": {
    "collapsed": false
   },
   "outputs": [
    {
     "data": {
      "text/plain": [
       "'qu/mb-solve-lambda-weak-pulse-cloud-atoms-some-coupling-store'"
      ]
     },
     "execution_count": 4,
     "metadata": {},
     "output_type": "execute_result"
    }
   ],
   "source": [
    "mb_solve_00.savefile"
   ]
  },
  {
   "cell_type": "code",
   "execution_count": 5,
   "metadata": {
    "collapsed": false
   },
   "outputs": [
    {
     "data": {
      "text/plain": [
       "array([ 0.0043644 ,  0.00509183,  0.00592734,  0.00688465,  0.00797887,\n",
       "        0.00922651,  0.01064559,  0.01225573,  0.01407813,  0.0161357 ,\n",
       "        0.01845301,  0.02105636,  0.02397376,  0.02723489,  0.03087109,\n",
       "        0.03491522,  0.03940165,  0.04436605,  0.04984526,  0.05587706,\n",
       "        0.0625    ,  0.06975304,  0.07767532,  0.08630572,  0.09568257,\n",
       "        0.10584316,  0.1168233 ,  0.12865683,  0.1413751 ,  0.15500643,\n",
       "        0.16957554,  0.18510298,  0.20160454,  0.21909068,  0.23756595,\n",
       "        0.25702846,  0.27746929,  0.29887207,  0.32121251,  0.344458  ,\n",
       "        0.3685673 ,  0.39349031,  0.41916786,  0.4455317 ,  0.47250451,\n",
       "        0.5       ,  0.52792321,  0.55617084,  0.58463172,  0.61318742,\n",
       "        0.64171295,  0.67007756,  0.69814567,  0.72577788,  0.75283207,\n",
       "        0.77916458,  0.80463143,  0.82908964,  0.85239852,  0.87442103,\n",
       "        0.89502507,  0.91408485,  0.93148213,  0.94710744,  0.96086123,\n",
       "        0.97265495,  0.98241194,  0.99006833,  0.99557368,  0.99889158,\n",
       "        1.        ,  0.99889158,  0.99557368,  0.99006833,  0.98241194,\n",
       "        0.97265495,  0.96086123,  0.94710744,  0.93148213,  0.91408485,\n",
       "        0.89502507,  0.87442103,  0.85239852,  0.82908964,  0.80463143,\n",
       "        0.77916458,  0.75283207,  0.72577788,  0.69814567,  0.67007756,\n",
       "        0.64171295,  0.61318742,  0.58463172,  0.55617084,  0.52792321,\n",
       "        0.5       ,  0.47250451,  0.4455317 ,  0.41916786,  0.39349031,\n",
       "        0.3685673 ,  0.344458  ,  0.32121251,  0.29887207,  0.27746929,\n",
       "        0.25702846,  0.23756595,  0.21909068,  0.20160454,  0.18510298,\n",
       "        0.16957554,  0.15500643,  0.1413751 ,  0.12865683,  0.1168233 ,\n",
       "        0.10584316,  0.09568257,  0.08630572,  0.07767532,  0.06975304,\n",
       "        0.0625    ,  0.05587706,  0.04984526,  0.04436605,  0.03940165,\n",
       "        0.03491522,  0.03087109,  0.02723489,  0.02397376,  0.02105636,\n",
       "        0.01845301,  0.0161357 ,  0.01407813,  0.01225573,  0.01064559,\n",
       "        0.00922651,  0.00797887,  0.00688465,  0.00592734,  0.00509183,\n",
       "        0.0043644 ])"
      ]
     },
     "execution_count": 5,
     "metadata": {},
     "output_type": "execute_result"
    }
   ],
   "source": [
    "mb_solve_00.num_density_z_func(mb_solve_00.zlist, mb_solve_00.num_density_z_args)"
   ]
  },
  {
   "cell_type": "code",
   "execution_count": 6,
   "metadata": {
    "collapsed": false
   },
   "outputs": [
    {
     "name": "stdout",
     "output_type": "stream",
     "text": [
      "Loaded tuple object.\n",
      "CPU times: user 4.3 ms, sys: 10.2 ms, total: 14.5 ms\n",
      "Wall time: 18 ms\n"
     ]
    }
   ],
   "source": [
    "%time Omegas_zt, states_zt = mb_solve_00.mbsolve(recalc=False)"
   ]
  },
  {
   "cell_type": "code",
   "execution_count": 12,
   "metadata": {
    "collapsed": false
   },
   "outputs": [
    {
     "data": {
      "image/png": "[encoded data removed]",
      "text/plain": [
       "<matplotlib.figure.Figure at 0x10c53e5f8>"
      ]
     },
     "metadata": {},
     "output_type": "display_data"
    }
   ],
   "source": [
    "import matplotlib.pyplot as plt\n",
    "%matplotlib inline\n",
    "import seaborn as sns\n",
    "\n",
    "import numpy as np\n",
    "\n",
    "fig = plt.figure(1, figsize=(16, 6))\n",
    "ax = fig.add_subplot(111)\n",
    "#fig, ax = plt.subplots(figsize=(16, 9))\n",
    "cmap_range = np.linspace(0.0, 1.0e-3, 11)\n",
    "cf = ax.contourf(mb_solve_00.tlist, mb_solve_00.zlist, \n",
    "                 np.abs(mb_solve_00.Omegas_zt[0]/(2*np.pi)), \n",
    "                 cmap_range, cmap=plt.cm.Greens)\n",
    "ax.set_title('Rabi Frequency ($\\Gamma / 2\\pi $)')\n",
    "ax.set_xlabel('Time ($1/\\Gamma$)')\n",
    "ax.set_ylabel('Distance ($L$)')\n",
    "for y in [0.0, 1.0]:\n",
    "    ax.axhline(y, c='grey', lw=1.0, ls='dotted')\n",
    "plt.colorbar(cf)\n",
    "plt.savefig('images/{0}.png'.format(NOTEBOOK_NAME))"
   ]
  },
  {
   "cell_type": "code",
   "execution_count": 8,
   "metadata": {
    "collapsed": false
   },
   "outputs": [
    {
     "data": {
      "text/plain": [
       "<matplotlib.colorbar.Colorbar at 0x112537828>"
      ]
     },
     "execution_count": 8,
     "metadata": {},
     "output_type": "execute_result"
    },
    {
     "data": {
      "image/png": "[encoded data removed]",
      "text/plain": [
       "<matplotlib.figure.Figure at 0x1125a0400>"
      ]
     },
     "metadata": {},
     "output_type": "display_data"
    }
   ],
   "source": [
    "fig = plt.figure(1, figsize=(16, 9))\n",
    "ax = fig.add_subplot(111)\n",
    "#fig, ax = plt.subplots(figsize=(16, 9))\n",
    "cmap_range = np.linspace(0.0, 6.0, 11)\n",
    "cf = ax.contourf(mb_solve_00.tlist, mb_solve_00.zlist, \n",
    "                 np.abs(mb_solve_00.Omegas_zt[1]/(2*np.pi)), \n",
    "                 cmap_range, cmap=plt.cm.Reds)\n",
    "ax.set_title('Rabi Frequency ($\\Gamma / 2\\pi $)')\n",
    "ax.set_xlabel('Time ($1/\\Gamma$)')\n",
    "ax.set_ylabel('Distance ($L$)')\n",
    "#for y in [0.0, 1.0]:\n",
    "#    ax.axhline(y, c='grey', lw=1.0, ls='dotted')\n",
    "plt.colorbar(cf)"
   ]
  }
 ],
 "metadata": {
  "kernelspec": {
   "display_name": "Python 3",
   "language": "python",
   "name": "python3"
  },
  "language_info": {
   "codemirror_mode": {
    "name": "ipython",
    "version": 3
   },
   "file_extension": ".py",
   "mimetype": "text/x-python",
   "name": "python",
   "nbconvert_exporter": "python",
   "pygments_lexer": "ipython3",
   "version": "3.5.2"
  }
 },
 "nbformat": 4,
 "nbformat_minor": 0
}
