{
 "cells": [
  {
   "cell_type": "code",
   "execution_count": 1,
   "metadata": {
    "collapsed": true
   },
   "outputs": [],
   "source": [
    "from maxwellbloch import ob_solve"
   ]
  },
  {
   "cell_type": "code",
   "execution_count": 2,
   "metadata": {
    "collapsed": false
   },
   "outputs": [
    {
     "name": "stdout",
     "output_type": "stream",
     "text": [
      "04-ob-solve-from-json-file\n"
     ]
    }
   ],
   "source": [
    "ob_solve_1 = ob_solve.OBSolve().from_json(\"04-ob-solve-from-json-file.json\")"
   ]
  },
  {
   "cell_type": "code",
   "execution_count": 3,
   "metadata": {
    "collapsed": false
   },
   "outputs": [
    {
     "data": {
      "text/plain": [
       "'04-ob-solve-from-json-file'"
      ]
     },
     "execution_count": 3,
     "metadata": {},
     "output_type": "execute_result"
    }
   ],
   "source": [
    "ob_solve_1.savefile"
   ]
  },
  {
   "cell_type": "code",
   "execution_count": 4,
   "metadata": {
    "collapsed": false
   },
   "outputs": [],
   "source": [
    "ob_solve_2 = ob_solve.OBSolve().from_json(\"04-ob-solve-from-json-file-with-savefile.json\")"
   ]
  },
  {
   "cell_type": "code",
   "execution_count": 5,
   "metadata": {
    "collapsed": false
   },
   "outputs": [
    {
     "data": {
      "text/plain": [
       "'my_file_name'"
      ]
     },
     "execution_count": 5,
     "metadata": {},
     "output_type": "execute_result"
    }
   ],
   "source": [
    "ob_solve_2.savefile"
   ]
  },
  {
   "cell_type": "code",
   "execution_count": 6,
   "metadata": {
    "collapsed": false
   },
   "outputs": [
    {
     "name": "stdout",
     "output_type": "stream",
     "text": [
      "10.9%. Run time:   0.02s. Est. time left: 00:00:00:00\n",
      "20.8%. Run time:   0.03s. Est. time left: 00:00:00:00\n",
      "30.7%. Run time:   0.05s. Est. time left: 00:00:00:00\n",
      "40.6%. Run time:   0.06s. Est. time left: 00:00:00:00\n",
      "50.5%. Run time:   0.08s. Est. time left: 00:00:00:00\n",
      "60.4%. Run time:   0.11s. Est. time left: 00:00:00:00\n",
      "70.3%. Run time:   0.13s. Est. time left: 00:00:00:00\n",
      "80.2%. Run time:   0.17s. Est. time left: 00:00:00:00\n",
      "90.1%. Run time:   0.19s. Est. time left: 00:00:00:00\n",
      "Total run time:   0.21s\n",
      "Saving to 04-ob-solve-from-json-file.qu\n"
     ]
    }
   ],
   "source": [
    "ob_solve_1.solve(show_pbar=True)"
   ]
  },
  {
   "cell_type": "code",
   "execution_count": 7,
   "metadata": {
    "collapsed": false
   },
   "outputs": [
    {
     "name": "stdout",
     "output_type": "stream",
     "text": [
      "10.9%. Run time:   0.01s. Est. time left: 00:00:00:00\n",
      "20.8%. Run time:   0.02s. Est. time left: 00:00:00:00\n",
      "30.7%. Run time:   0.03s. Est. time left: 00:00:00:00\n",
      "40.6%. Run time:   0.04s. Est. time left: 00:00:00:00\n",
      "50.5%. Run time:   0.05s. Est. time left: 00:00:00:00\n",
      "60.4%. Run time:   0.08s. Est. time left: 00:00:00:00\n",
      "70.3%. Run time:   0.09s. Est. time left: 00:00:00:00\n",
      "80.2%. Run time:   0.13s. Est. time left: 00:00:00:00\n",
      "90.1%. Run time:   0.17s. Est. time left: 00:00:00:00\n",
      "Total run time:   0.18s\n",
      "Saving to my_file_name.qu\n"
     ]
    }
   ],
   "source": [
    "ob_solve_2.solve(recalc=True, show_pbar=True)"
   ]
  },
  {
   "cell_type": "code",
   "execution_count": 8,
   "metadata": {
    "collapsed": false,
    "scrolled": true
   },
   "outputs": [
    {
     "name": "stdout",
     "output_type": "stream",
     "text": [
      "Loading from my_file_name.qu\n",
      "Loaded Result object:\n",
      "Result object with mesolve data.\n",
      "--------------------------------\n",
      "states = True\n",
      "num_collapse = 0\n"
     ]
    }
   ],
   "source": [
    "ob_solve_2.solve(recalc=False, show_pbar=True)"
   ]
  }
 ],
 "metadata": {
  "kernelspec": {
   "display_name": "Python 3",
   "language": "python",
   "name": "python3"
  },
  "language_info": {
   "codemirror_mode": {
    "name": "ipython",
    "version": 3
   },
   "file_extension": ".py",
   "mimetype": "text/x-python",
   "name": "python",
   "nbconvert_exporter": "python",
   "pygments_lexer": "ipython3",
   "version": "3.5.2"
  }
 },
 "nbformat": 4,
 "nbformat_minor": 0
}
