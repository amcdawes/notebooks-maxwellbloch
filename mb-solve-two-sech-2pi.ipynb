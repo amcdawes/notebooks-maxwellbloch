{
 "cells": [
  {
   "cell_type": "markdown",
   "metadata": {},
   "source": [
    "MacBook runtime: Wall time: 5min 31s"
   ]
  },
  {
   "cell_type": "code",
   "execution_count": 1,
   "metadata": {
    "collapsed": false
   },
   "outputs": [
    {
     "name": "stdout",
     "output_type": "stream",
     "text": [
      "t_width 0.3796628587572578\n",
      "ampl 0.8384014365421667\n"
     ]
    }
   ],
   "source": [
    "import numpy as np\n",
    "\n",
    "sech_fwhm_conv = 1./2.6339157938\n",
    "t_width = 1.0*sech_fwhm_conv # [τ]\n",
    "\n",
    "print('t_width', t_width)\n",
    "\n",
    "n = 2.0 # For a pulse area of nπ    \n",
    "ampl = n/t_width/(2*np.pi) # Pulse amplitude [2π Γ]\n",
    "\n",
    "print('ampl', ampl)"
   ]
  },
  {
   "cell_type": "code",
   "execution_count": 2,
   "metadata": {
    "collapsed": true
   },
   "outputs": [],
   "source": [
    "mb_solve_json = \"\"\"\n",
    "{\n",
    "  \"ob_atom\": {\n",
    "    \"decays\": [\n",
    "      {\n",
    "        \"channels\": [[0, 1]],\n",
    "        \"rate\": 0.0\n",
    "      }\n",
    "    ],\n",
    "    \"energies\": [],\n",
    "    \"fields\": [\n",
    "      {\n",
    "        \"coupled_levels\": [[0, 1]],\n",
    "        \"detuning\": 0.0,\n",
    "        \"detuning_positive\": true,\n",
    "        \"label\": \"probe\",\n",
    "        \"rabi_freq\": 0.8384014365421667,\n",
    "        \"rabi_freq_t_args\": {\n",
    "          \"ampl_1\": 1.0,\n",
    "          \"centre_1\": 0.0,\n",
    "          \"width_1\": 0.3796628587572578\n",
    "        },\n",
    "        \"rabi_freq_t_func\": \"sech_1\"\n",
    "      }\n",
    "    ],\n",
    "    \"num_states\": 2\n",
    "  },\n",
    "  \"t_min\": -2.0,\n",
    "  \"t_max\": 10.0,\n",
    "  \"t_steps\": 1200,\n",
    "  \"z_min\": -0.2,\n",
    "  \"z_max\": 1.2,\n",
    "  \"z_steps\": 140,\n",
    "  \"z_steps_inner\": 1,\n",
    "  \"num_density_z_func\": \"square_1\",\n",
    "  \"num_density_z_args\": {\n",
    "    \"on_1\": 0.0,\n",
    "    \"off_1\": 1.0,\n",
    "    \"ampl_1\": 1.0\n",
    "  },\n",
    "  \"interaction_strengths\": [\n",
    "    10.0\n",
    "  ],\n",
    "  \"velocity_classes\": {\n",
    "    \"thermal_delta_min\": -0.0,\n",
    "    \"thermal_delta_max\": 0.0,\n",
    "    \"thermal_delta_steps\": 0,\n",
    "    \"thermal_delta_inner_min\": 0.0,\n",
    "    \"thermal_delta_inner_max\": 0.0,\n",
    "    \"thermal_delta_inner_steps\": 0,\n",
    "    \"thermal_width\": 1.0\n",
    "  },\n",
    "  \"method\": \"mesolve\",\n",
    "  \"opts\": {},\n",
    "  \"savefile\": \"qu/mb-solve-two-sech-2pi\"\n",
    "}\n",
    "\"\"\""
   ]
  },
  {
   "cell_type": "code",
   "execution_count": 3,
   "metadata": {
    "collapsed": false
   },
   "outputs": [],
   "source": [
    "from maxwellbloch import mb_solve"
   ]
  },
  {
   "cell_type": "code",
   "execution_count": 4,
   "metadata": {
    "collapsed": false
   },
   "outputs": [
    {
     "data": {
      "text/plain": [
       "(1.9934364138920346+0j)"
      ]
     },
     "execution_count": 4,
     "metadata": {},
     "output_type": "execute_result"
    }
   ],
   "source": [
    "mb_solve_00 = mb_solve.MBSolve().from_json_str(mb_solve_json)\n",
    "\n",
    "np.trapz(mb_solve_00.Omegas_zt[0,0,:], mb_solve_00.tlist)/np.pi"
   ]
  },
  {
   "cell_type": "code",
   "execution_count": 5,
   "metadata": {
    "collapsed": false
   },
   "outputs": [
    {
     "name": "stdout",
     "output_type": "stream",
     "text": [
      "Loaded tuple object.\n",
      "CPU times: user 6.89 ms, sys: 27.2 ms, total: 34.1 ms\n",
      "Wall time: 91.9 ms\n"
     ]
    }
   ],
   "source": [
    "%time Omegas_zt, states_zt = mb_solve_00.mbsolve(step='ab', recalc=False)"
   ]
  },
  {
   "cell_type": "code",
   "execution_count": 6,
   "metadata": {
    "collapsed": false
   },
   "outputs": [
    {
     "data": {
      "image/png": "[encoded data removed]",
      "text/plain": [
       "<matplotlib.figure.Figure at 0x10bd61908>"
      ]
     },
     "metadata": {},
     "output_type": "display_data"
    }
   ],
   "source": [
    "import matplotlib.pyplot as plt\n",
    "%matplotlib inline\n",
    "import seaborn as sns\n",
    "\n",
    "import numpy as np\n",
    "\n",
    "fig, ax = plt.subplots(figsize=(16, 9))\n",
    "cmap_range = np.linspace(0.0, 1.0, 11)\n",
    "cf = ax.contourf(mb_solve_00.tlist, mb_solve_00.zlist, \n",
    "                 np.abs(mb_solve_00.Omegas_zt[0]/(2*np.pi)), \n",
    "                 cmap_range, cmap=plt.cm.Greens)\n",
    "ax.set_title('Rabi Frequency ($\\Gamma / 2\\pi $)')\n",
    "ax.set_xlabel('Time ($1/\\Gamma$)')\n",
    "ax.set_ylabel('Distance ($L$)')\n",
    "for y in [0.0, 1.0]:\n",
    "    ax.axhline(y, c='grey', lw=1.0, ls='dotted')\n",
    "plt.colorbar(cf);\n",
    "plt.savefig('images/mb-solve-two-sech-2pi.png')"
   ]
  },
  {
   "cell_type": "code",
   "execution_count": 7,
   "metadata": {
    "collapsed": false
   },
   "outputs": [
    {
     "data": {
      "text/plain": [
       "<matplotlib.text.Text at 0x114abfcf8>"
      ]
     },
     "execution_count": 7,
     "metadata": {},
     "output_type": "execute_result"
    },
    {
     "data": {
      "image/png": "[encoded data removed]",
      "text/plain": [
       "<matplotlib.figure.Figure at 0x1136831d0>"
      ]
     },
     "metadata": {},
     "output_type": "display_data"
    }
   ],
   "source": [
    "fig, ax = plt.subplots(figsize=(16, 5))\n",
    "ax.plot(mb_solve_00.zlist, mb_solve_00.fields_area()[0]/np.pi)\n",
    "ax.set_ylim([0.0, 4.0])\n",
    "ax.set_xlabel('Distance ($L$)')\n",
    "ax.set_ylabel('Pulse Area ($\\pi$)')"
   ]
  }
 ],
 "metadata": {
  "kernelspec": {
   "display_name": "Python 3",
   "language": "python",
   "name": "python3"
  },
  "language_info": {
   "codemirror_mode": {
    "name": "ipython",
    "version": 3
   },
   "file_extension": ".py",
   "mimetype": "text/x-python",
   "name": "python",
   "nbconvert_exporter": "python",
   "pygments_lexer": "ipython3",
   "version": "3.5.2"
  }
 },
 "nbformat": 4,
 "nbformat_minor": 0
}
